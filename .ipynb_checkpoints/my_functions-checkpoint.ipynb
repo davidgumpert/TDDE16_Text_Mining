{
 "cells": [
  {
   "cell_type": "code",
   "execution_count": 1,
   "metadata": {},
   "outputs": [],
   "source": [
    "# SENTENCE SPLITTING FUNCTION\n",
    "def sentence_splitting(doc):\n",
    "    doc = nlp_sentencizer(doc['text'])\n",
    "    sentences = [sent.string.strip() for sent in doc.sents]\n",
    "    \n",
    "    return sentences"
   ]
  },
  {
   "cell_type": "code",
   "execution_count": null,
   "metadata": {},
   "outputs": [],
   "source": [
    "# DATA THINNING FUNCTION\n",
    "def data_thinning(data): \n",
    "    # Extracting appropriate data and transforming to pandas dataframe\n",
    "    df = pd.DataFrame(data)\n",
    "    df_extractive = df[df.density_bin == 'extractive']\n",
    "\n",
    "    # Filtering on rough estimate of lenght text\n",
    "    article_lengths = [len(text.split()) for text in df_extractive.text]\n",
    "    _ = plt.hist(article_lengths, bins = 100, range = (0, 2000))\n",
    "    length_check = [len > 250 for len in article_lengths]\n",
    "    df_extractive = df_extractive[length_check]\n",
    "\n",
    "    # Inspecting head of dataframe for inspection\n",
    "    df_extractive.head()"
   ]
  },
  {
   "cell_type": "code",
   "execution_count": 2,
   "metadata": {},
   "outputs": [],
   "source": [
    "# PREPROCESSING FUNCTION\n",
    "def preprocess(text):\n",
    "    # Cleans input text\n",
    "    text = nlp(text)\n",
    "    tokens = []\n",
    "    for token in text:\n",
    "        # Remove stopwords and numerics, append the lemma form to tokens list\n",
    "        if token.is_stop == False and token.is_alpha == True:\n",
    "            tokens.append(token.lemma_)\n",
    "    \n",
    "    # Return all lemmatized tokens in the input text\n",
    "    return tokens"
   ]
  },
  {
   "cell_type": "code",
   "execution_count": 3,
   "metadata": {},
   "outputs": [],
   "source": [
    "# ROUGE AND BLEU SCORING FUNCTION\n",
    "def rouge_blue_scoring(summary, reference):\n",
    "    rouge_score = rouge.get_scores(summary, reference)\n",
    "    \n",
    "    return rouge_score"
   ]
  },
  {
   "cell_type": "code",
   "execution_count": null,
   "metadata": {},
   "outputs": [],
   "source": []
  }
 ],
 "metadata": {
  "kernelspec": {
   "display_name": "Python 3",
   "language": "python",
   "name": "python3"
  },
  "language_info": {
   "codemirror_mode": {
    "name": "ipython",
    "version": 3
   },
   "file_extension": ".py",
   "mimetype": "text/x-python",
   "name": "python",
   "nbconvert_exporter": "python",
   "pygments_lexer": "ipython3",
   "version": "3.7.9"
  }
 },
 "nbformat": 4,
 "nbformat_minor": 5
}
