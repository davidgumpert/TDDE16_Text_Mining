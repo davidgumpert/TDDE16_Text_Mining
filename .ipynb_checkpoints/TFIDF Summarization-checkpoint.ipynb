{
 "cells": [
  {
   "cell_type": "markdown",
   "metadata": {},
   "source": [
    "## Importing packages"
   ]
  },
  {
   "cell_type": "markdown",
   "metadata": {},
   "source": [
    "Importing all needed packages for the full notebook. Only needs to be ran once. "
   ]
  },
  {
   "cell_type": "code",
   "execution_count": 79,
   "metadata": {},
   "outputs": [
    {
     "name": "stdout",
     "output_type": "stream",
     "text": [
      "Requirement already satisfied: ipynb in /opt/anaconda3/envs/TDDE16_Project/lib/python3.7/site-packages (0.5.1)\n",
      "Collecting rouge-score\n",
      "  Downloading rouge_score-0.0.4-py2.py3-none-any.whl (22 kB)\n",
      "Requirement already satisfied: absl-py in /opt/anaconda3/envs/TDDE16_Project/lib/python3.7/site-packages (from rouge-score) (0.11.0)\n",
      "Requirement already satisfied: nltk in /opt/anaconda3/envs/TDDE16_Project/lib/python3.7/site-packages (from rouge-score) (3.5)\n",
      "Requirement already satisfied: numpy in /opt/anaconda3/envs/TDDE16_Project/lib/python3.7/site-packages (from rouge-score) (1.19.1)\n",
      "Requirement already satisfied: six>=1.14.0 in /opt/anaconda3/envs/TDDE16_Project/lib/python3.7/site-packages (from rouge-score) (1.15.0)\n",
      "Requirement already satisfied: tqdm in /opt/anaconda3/envs/TDDE16_Project/lib/python3.7/site-packages (from nltk->rouge-score) (4.50.2)\n",
      "Requirement already satisfied: joblib in /opt/anaconda3/envs/TDDE16_Project/lib/python3.7/site-packages (from nltk->rouge-score) (0.17.0)\n",
      "Requirement already satisfied: regex in /opt/anaconda3/envs/TDDE16_Project/lib/python3.7/site-packages (from nltk->rouge-score) (2020.10.15)\n",
      "Requirement already satisfied: click in /opt/anaconda3/envs/TDDE16_Project/lib/python3.7/site-packages (from nltk->rouge-score) (7.1.2)\n",
      "Installing collected packages: rouge-score\n",
      "Successfully installed rouge-score-0.0.4\n"
     ]
    }
   ],
   "source": [
    "import sys\n",
    "!{sys.executable} -m pip install ipynb\n",
    "!{sys.executable} -m pip install rouge-score"
   ]
  },
  {
   "cell_type": "code",
   "execution_count": 80,
   "metadata": {},
   "outputs": [],
   "source": [
    "import gzip as gz\n",
    "import json\n",
    "import sys as sklearn\n",
    "import spacy as sp\n",
    "import pandas as pd\n",
    "import numpy as np\n",
    "import math\n",
    "import re\n",
    "import matplotlib.pyplot as plt\n",
    "from sklearn.feature_extraction.text import TfidfVectorizer\n",
    "#from ipynb.fs.full.my_functions import rouge_blue_scoring\n",
    "from rouge import Rouge\n",
    "from rouge_score import rouge_scorer\n"
   ]
  },
  {
   "cell_type": "markdown",
   "metadata": {},
   "source": [
    "## Import and inspect data"
   ]
  },
  {
   "cell_type": "markdown",
   "metadata": {},
   "source": [
    "Loading data from disc. Time consuming process that is only needed to be done once per session. After completion all needed data is saved in the *Data* variable."
   ]
  },
  {
   "cell_type": "code",
   "execution_count": 8,
   "metadata": {},
   "outputs": [],
   "source": [
    "# Setting local file path\n",
    "path = \"release/train.jsonl.gz\"\n",
    "\n",
    "# Creating list entity to hold full set of loaded data\n",
    "data = []\n",
    "\n",
    "# Using gz to set path to zip file and iteritavly load each json line\n",
    "with gz.open(path) as f:\n",
    "    for ln in f:\n",
    "        obj = json.loads(ln)\n",
    "        data.append(obj)"
   ]
  },
  {
   "cell_type": "markdown",
   "metadata": {},
   "source": [
    "Inspecting one data entity for better understanding of its properties. "
   ]
  },
  {
   "cell_type": "code",
   "execution_count": 261,
   "metadata": {},
   "outputs": [
    {
     "data": {
      "text/plain": [
       "{'url': 'http://www.nytimes.com/2006/06/04/sports/soccer/04racism.html',\n",
       " 'archive': 'http://web.archive.org/web/20060618204254id_/http://www.nytimes.com:80/2006/06/04/sports/soccer/04racism.html?ei=5090&en=2cc7885a61bb8cf5&ex=1307073600&partner=rssuserland&emc=rss&pagewanted=all',\n",
       " 'title': 'Surge in Racist Mood Raises Concerns on Eve of World Cup',\n",
       " 'date': '20060618204254',\n",
       " 'text': 'HAMBURG, Germany, June 3 \\x97 As he left the soccer field after a club match in the eastern German city of Halle on March 25, the Nigerian forward Adebowale Ogungbure was spit upon, jeered with racial remarks and mocked with monkey noises. In rebuke, he placed two fingers under his nose to simulate a Hitler mustache and thrust his arm in a Nazi salute.\\n\\nMarc Zoro, right, an Ivory Coast native, was a target of racial slurs from the home fans in Messina, Italy. Adriano, a star with Inter Milan, tried to persuade him to stay on the field.\\n\\nFrom now until its conclusion on July 9, Jeff Z. Klein and other staff members of The Times and International Herald Tribune will track the world\\'s most popular sporting event.\\n\\nYour guide to the games in Germany: teams, rosters, schedules, statistics, venues and more.\\n\\nIn April, the American defender Oguchi Onyewu, playing for his professional club team in Belgium, dismissively gestured toward fans who were making simian chants at him. Then, as he went to throw the ball inbounds, Onyewu said a fan of the opposing team reached over a barrier and punched him in the face.\\n\\nInternational soccer has been plagued for years by violence among fans, including racial incidents. But FIFA, soccer\\'s Zurich-based world governing body, said there has been a recent surge in discriminatory behavior toward blacks by fans and other players, an escalation that has dovetailed with the signing of more players from Africa and Latin America by elite European clubs.\\n\\nThis \"deplorable trend,\" as FIFA has called it, now threatens to embarrass the sport on its grandest stage, the World Cup, which opens June 9 for a monthlong run in 12 cities around Germany. More than 30 billion cumulative television viewers are expected to watch part of the competition and Joseph S. Blatter, FIFA\\'s president, has vowed to crack down on racist behavior during the tournament.\\n\\nUnderlining FIFA\\'s concerns, the issue has been included on the agenda at its biannual Congress, scheduled to be held this week in Munich. A campaign against bigotry includes \"Say No to Racism\" stadium banners, television commercials, and team captains making pregame speeches during the quarterfinals of the 32-team tournament.\\n\\nPlayers, coaches and officials have been threatened with sanctions. But FIFA has said it would not be practical to use the harshest penalties available to punish misbehaving fans \\x97 halting matches, holding games in empty stadiums and deducting points that teams receive for victories and ties.\\n\\nPlayers and antiracism experts said they expected offensive behavior during the tournament, including monkey-like chanting; derisive singing; the hanging of banners that reflect neofascist and racist beliefs; and perhaps the tossing of bananas or banana peels, all familiar occurrences during matches in Spain, Italy, eastern Germany and eastern Europe.\\n\\n\"For us it\\'s quite clear this is a reflection of underlying tensions that exist in European societies,\" said Piara Powar, director of the London-based antiracist soccer organization Kick It Out. He said of Eastern Europe: \"Poverty, unemployment, is a problem. Indigenous people are looking for easy answers to blame. Often newcomers bear the brunt of the blame.\"\\n\\nYet experts and players also said they believed the racist behavior would be more constrained at the World Cup than it was during play in various domestic leagues around Europe, because of increased security, the international makeup of the crowds, higher ticket prices and a sense that spectators would be generally well behaved on soccer\\'s grandest stage.\\n\\n\"We have to differentiate inside and outside the stadium,\" said Kurt Wachter, project coordinator for the Vienna-based Football Against Racism in Europe, a network of organizations that seeks to fight bigotry and xenophobia in 35 countries.\\n\\n\"Racism is a feature of many football leagues inside and outside Europe,\" said Wachter, who expects most problems to occur outside stadiums where crowds are less controlled. \"We\\'re sure we will see some things we\\'re used to seeing. It won\\'t stop because of the World Cup.\"\\n\\nParticularly worrisome are the possibilities of attacks by extremist groups on spectators and visitors in train stations, bars, restaurants and open areas near the stadiums, Wachter and other experts said. To promote tolerance, he said his organization would organize street soccer matches outside World Cup stadiums.\\n\\nRecent attacks in the eastern Germany city of Potsdam on an Ethiopian-born engineer and in eastern Berlin on a state lawmaker of Turkish descent, along with a government report showing an increase in right-wing violence, have ignited fears that even sporadic hate crimes and other intolerant behavior could mar the World Cup, whose embracing motto is A Time to Make Friends.\\n\\nFar-right extremism is isolated on the fringe of German society, and the German government has intended to confront its Nazi past while preaching openness and tolerance. Germany has one of the world\\'s lowest rates of violent crime. Still, an immigrant group called the Africa Council said it would publish a \"No Go\" guide for nonwhites during the World Cup, particularly for some areas of eastern Berlin and for surrounding towns of the state of Brandenburg.\\n\\nIn mid-May, a former government spokesman, Uwe-Karsten Heye, caused a furor when he tried to assist visitors by advising that anyone \"with a different skin color\" avoid visiting small and midsize towns in Brandenburg and elsewhere in eastern Germany, or they \"may not leave with their lives.\"\\n\\nThese remarks received blunt criticism from high-ranking German officials. Wolfgang Schäuble, the minister of the interior, said there were no areas in which World Cup visitors should feel threatened, calling Germany \"one of the safest places in the world.\"\\n\\nAngela Merkel, Germany\\'s chancellor, has warned that \"anybody who threatens, attacks or, worse, kills anybody because of the color of his skin or because he comes from another country will face the full force of the law.\"\\n\\nThe Bundesliga in Germany is one of the world\\'s top professional soccer leagues, and has not experienced widespread racism. Incidents involving racial abuse of black players are more prevalent in semiprofessional and amateur leagues in eastern Germany. One of the cities playing host to the World Cup, Leipzig, is in the former East Germany. Another, Berlin, was partly in East Germany.\\n\\nAfter making a Nazi salute, which is illegal in Germany, Ogungbure of Nigeria was investigated by the authorities. But a charge of unconstitutional behavior against him was soon dropped because his gesture had been meant to renounce extremist activity.\\n\\n\"I regret what I did,\" Ogungbure said in a telephone interview from Leipzig. \"I should have walked away. I\\'m a professional, but I\\'m a human, too. They don\\'t spit on dogs. Why should they spit on me? I felt like a nobody.\"\\n\\nGerald Asamoah, a forward on Germany\\'s World Cup team and a native of Ghana, has been recounting an incident in the 1990\\'s when he was pelted with bananas before a club match in Cottbus. \"I\\'ll never forget that,\" he said in a television interview. \"It\\'s like we\\'re not people.\" He has expressed anger and sadness over a banner distributed by a right-wing group that admonished, \"No Gerald, You Are Not Germany.\"\\n\\nCory Gibbs, an American defender who formerly played professionally in Germany, said there were restaurants and nightclubs in eastern Germany \\x97 and even around Hamburg in the west \\x97 where he was told \"You\\'re not welcome\" because he was black.\\n\\n\"I think racism is everywhere,\" said Gibbs, who will miss the World Cup because of a knee injury. \"But I feel in Germany racism is a lot more direct.\"\\n\\nRacist behavior at soccer matches is primarily displayed by men and is fueled by several factors, according to experts: alcohol; the perceived \"us versus them\" threat of multiculturalism in societies that were once more ethnically homogenous; the difficult economic transition of eastern European nations since the fall of the Berlin Wall; and crude attempts to unnerve opposing players during bitter, consuming rivalries.\\n\\nOther observers say that the soccer stadium in Europe has become a communal soapbox, one of the few remaining public spaces where spectators can be outrageous and where political correctness does not exist and is even discouraged.\\n\\n\"Nowhere else other than football do people meet someplace and have a stage for shouting things as an anonymous mass,\" said Gerd Dembowski, director of a Berlin-based antiracist organization called Floodlight. \"You can shout things you would never say in your normal life, let out your frustrations.\"\\n\\nNot all the misbehavior can be traced to fans or to Europe. Players and coaches have also been transgressors.\\n\\nLuis Aragonés, Spain\\'s World Cup coach, was fined in 2004 after making racial remarks about the French star Thierry Henry. In March, in the Brazilian league, the defender Antonio Carlos was suspended for 120 days, and 4 additional matches, after an incident in which he shouted \"monkey\" at an opposing player who was black. But it was an incident in Spain on Feb. 25 that galvanized antiracist sentiment and prodded FIFA into taking a tougher stand against bigoted behavior. That match, in Zaragoza, was temporarily halted in the 77th minute by the referee, who threatened to cancel the remaining 13 minutes after Samuel Eto\\'o, the star forward for Barcelona, was subjected to a chorus of racial taunts. Eto\\'o threatened to leave the field. His coach and teammates eventually persuaded him to continue, and last month Barcelona won the European Champions Cup.\\n\\nEto\\'o has become one of the sport\\'s most outspoken players on the subject of racism. \"I\\'ll continue to play,\" Eto\\'o, whose national team, Cameroon, did not qualify for the World Cup, said this week through his agent. \"I\\'m not going to give up and hide and put my head down. I\\'ll score goals against the teams whose fans are making rude noises.\"\\n\\nUnder pressure to curb what it acknowledged was an increase in racist incidents, FIFA in late March announced a stricter set of penalties that would apply for club and national team matches. The sanctions would include suspensions of five matches for players and officials who make discriminatory gestures, fines of $16,600 to $25,000 for each offense and two-year stadium bans for offending spectators. It also said teams, which receive 3 points in the standings for a victory, would have 3 points deducted on a first offense by misbehaving players, officials or fans.\\n\\nBlatter, the FIFA president, told reporters that the 3-point deduction for abhorrent fan behavior would apply during the World Cup, then backed away from his comments in April. Blatter declined to comment for this article. And it remains unclear exactly what penalties will be levied against World Cup teams for offensive behavior by fans, coaches and players.\\n\\nNicolas Maingot, a FIFA spokesman, said World Cup sanctions would be made public later. But in an e-mail response to questions, he said: \"Only racist abuses in the field of play will be punished. For fans, it will be impossible, due to the multinationality of the audience. In other words, it would be impossible to identify from which side would potential racist abusers come.\"\\n\\nCritics counter that spectators are supposed to have their names on their tickets, so identifying offending fans should be relatively easy.\\n\\nOnyewu, the American defender who was punched by an opposing fan in Belgium, said the man was identified through an anonymous tip and was barred from attending matches for two years. He said he did not retaliate because he believed that racist behavior reflected acts of a minority of fans.\\n\\n\"I\\'m anticipating a more professional environment in Germany because it\\'s the World Cup,\" Onyewu said. Even so, he said, although antiracist efforts could restrict public behavior, \"that\\'s only helping the exterior.\"\\n\\nHe added, \"The interior mind thinking, you can\\'t really change that.\"',\n",
       " 'summary': 'A surge in discriminatory behavior toward blacks by fans and other players threatens to embarrass soccer.',\n",
       " 'compression': 137.4705882353,\n",
       " 'coverage': 1.0,\n",
       " 'density': 7.8235294118,\n",
       " 'compression_bin': 'high',\n",
       " 'coverage_bin': 'high',\n",
       " 'density_bin': 'mixed'}"
      ]
     },
     "execution_count": 261,
     "metadata": {},
     "output_type": "execute_result"
    }
   ],
   "source": [
    "# Exracting and printing the first data entity \n",
    "ent = data[0]\n",
    "ent"
   ]
  },
  {
   "cell_type": "markdown",
   "metadata": {},
   "source": [
    "## Data Thinning"
   ]
  },
  {
   "cell_type": "markdown",
   "metadata": {},
   "source": [
    "Ïnitial data thinning to extract data entities suitable for an extractive summarization task. These are identified by looking at the entity property \"density_bin\" stating if summary is mainly \"extractive\" or \"abstractive\""
   ]
  },
  {
   "cell_type": "code",
   "execution_count": 14,
   "metadata": {},
   "outputs": [
    {
     "ename": "KeyboardInterrupt",
     "evalue": "",
     "output_type": "error",
     "traceback": [
      "\u001b[0;31m---------------------------------------------------------------------------\u001b[0m",
      "\u001b[0;31mKeyboardInterrupt\u001b[0m                         Traceback (most recent call last)",
      "\u001b[0;32m<ipython-input-14-1d086ebd4e56>\u001b[0m in \u001b[0;36m<module>\u001b[0;34m\u001b[0m\n\u001b[1;32m      1\u001b[0m \u001b[0;31m# Extracting appropriate data and transforming to pandas dataframe\u001b[0m\u001b[0;34m\u001b[0m\u001b[0;34m\u001b[0m\u001b[0;34m\u001b[0m\u001b[0m\n\u001b[0;32m----> 2\u001b[0;31m \u001b[0mdf\u001b[0m \u001b[0;34m=\u001b[0m \u001b[0mpd\u001b[0m\u001b[0;34m.\u001b[0m\u001b[0mDataFrame\u001b[0m\u001b[0;34m(\u001b[0m\u001b[0mdata\u001b[0m\u001b[0;34m)\u001b[0m\u001b[0;34m\u001b[0m\u001b[0;34m\u001b[0m\u001b[0m\n\u001b[0m\u001b[1;32m      3\u001b[0m \u001b[0mdf_extractive\u001b[0m \u001b[0;34m=\u001b[0m \u001b[0mdf\u001b[0m\u001b[0;34m[\u001b[0m\u001b[0mdf\u001b[0m\u001b[0;34m.\u001b[0m\u001b[0mdensity_bin\u001b[0m \u001b[0;34m==\u001b[0m \u001b[0;34m'extractive'\u001b[0m\u001b[0;34m]\u001b[0m\u001b[0;34m\u001b[0m\u001b[0;34m\u001b[0m\u001b[0m\n\u001b[1;32m      4\u001b[0m \u001b[0;34m\u001b[0m\u001b[0m\n\u001b[1;32m      5\u001b[0m \u001b[0;31m# Filtering on rough estimate of lenght text\u001b[0m\u001b[0;34m\u001b[0m\u001b[0;34m\u001b[0m\u001b[0;34m\u001b[0m\u001b[0m\n",
      "\u001b[0;32m/opt/anaconda3/envs/TDDE16_Project/lib/python3.7/site-packages/pandas/core/frame.py\u001b[0m in \u001b[0;36m__init__\u001b[0;34m(self, data, index, columns, dtype, copy)\u001b[0m\n\u001b[1;32m    507\u001b[0m                     \u001b[0;32mif\u001b[0m \u001b[0mis_named_tuple\u001b[0m\u001b[0;34m(\u001b[0m\u001b[0mdata\u001b[0m\u001b[0;34m[\u001b[0m\u001b[0;36m0\u001b[0m\u001b[0;34m]\u001b[0m\u001b[0;34m)\u001b[0m \u001b[0;32mand\u001b[0m \u001b[0mcolumns\u001b[0m \u001b[0;32mis\u001b[0m \u001b[0;32mNone\u001b[0m\u001b[0;34m:\u001b[0m\u001b[0;34m\u001b[0m\u001b[0;34m\u001b[0m\u001b[0m\n\u001b[1;32m    508\u001b[0m                         \u001b[0mcolumns\u001b[0m \u001b[0;34m=\u001b[0m \u001b[0mdata\u001b[0m\u001b[0;34m[\u001b[0m\u001b[0;36m0\u001b[0m\u001b[0;34m]\u001b[0m\u001b[0;34m.\u001b[0m\u001b[0m_fields\u001b[0m\u001b[0;34m\u001b[0m\u001b[0;34m\u001b[0m\u001b[0m\n\u001b[0;32m--> 509\u001b[0;31m                     \u001b[0marrays\u001b[0m\u001b[0;34m,\u001b[0m \u001b[0mcolumns\u001b[0m \u001b[0;34m=\u001b[0m \u001b[0mto_arrays\u001b[0m\u001b[0;34m(\u001b[0m\u001b[0mdata\u001b[0m\u001b[0;34m,\u001b[0m \u001b[0mcolumns\u001b[0m\u001b[0;34m,\u001b[0m \u001b[0mdtype\u001b[0m\u001b[0;34m=\u001b[0m\u001b[0mdtype\u001b[0m\u001b[0;34m)\u001b[0m\u001b[0;34m\u001b[0m\u001b[0;34m\u001b[0m\u001b[0m\n\u001b[0m\u001b[1;32m    510\u001b[0m                     \u001b[0mcolumns\u001b[0m \u001b[0;34m=\u001b[0m \u001b[0mensure_index\u001b[0m\u001b[0;34m(\u001b[0m\u001b[0mcolumns\u001b[0m\u001b[0;34m)\u001b[0m\u001b[0;34m\u001b[0m\u001b[0;34m\u001b[0m\u001b[0m\n\u001b[1;32m    511\u001b[0m \u001b[0;34m\u001b[0m\u001b[0m\n",
      "\u001b[0;32m/opt/anaconda3/envs/TDDE16_Project/lib/python3.7/site-packages/pandas/core/internals/construction.py\u001b[0m in \u001b[0;36mto_arrays\u001b[0;34m(data, columns, coerce_float, dtype)\u001b[0m\n\u001b[1;32m    525\u001b[0m     \u001b[0;32melif\u001b[0m \u001b[0misinstance\u001b[0m\u001b[0;34m(\u001b[0m\u001b[0mdata\u001b[0m\u001b[0;34m[\u001b[0m\u001b[0;36m0\u001b[0m\u001b[0;34m]\u001b[0m\u001b[0;34m,\u001b[0m \u001b[0mabc\u001b[0m\u001b[0;34m.\u001b[0m\u001b[0mMapping\u001b[0m\u001b[0;34m)\u001b[0m\u001b[0;34m:\u001b[0m\u001b[0;34m\u001b[0m\u001b[0;34m\u001b[0m\u001b[0m\n\u001b[1;32m    526\u001b[0m         return _list_of_dict_to_arrays(\n\u001b[0;32m--> 527\u001b[0;31m             \u001b[0mdata\u001b[0m\u001b[0;34m,\u001b[0m \u001b[0mcolumns\u001b[0m\u001b[0;34m,\u001b[0m \u001b[0mcoerce_float\u001b[0m\u001b[0;34m=\u001b[0m\u001b[0mcoerce_float\u001b[0m\u001b[0;34m,\u001b[0m \u001b[0mdtype\u001b[0m\u001b[0;34m=\u001b[0m\u001b[0mdtype\u001b[0m\u001b[0;34m\u001b[0m\u001b[0;34m\u001b[0m\u001b[0m\n\u001b[0m\u001b[1;32m    528\u001b[0m         )\n\u001b[1;32m    529\u001b[0m     \u001b[0;32melif\u001b[0m \u001b[0misinstance\u001b[0m\u001b[0;34m(\u001b[0m\u001b[0mdata\u001b[0m\u001b[0;34m[\u001b[0m\u001b[0;36m0\u001b[0m\u001b[0;34m]\u001b[0m\u001b[0;34m,\u001b[0m \u001b[0mABCSeries\u001b[0m\u001b[0;34m)\u001b[0m\u001b[0;34m:\u001b[0m\u001b[0;34m\u001b[0m\u001b[0;34m\u001b[0m\u001b[0m\n",
      "\u001b[0;32m/opt/anaconda3/envs/TDDE16_Project/lib/python3.7/site-packages/pandas/core/internals/construction.py\u001b[0m in \u001b[0;36m_list_of_dict_to_arrays\u001b[0;34m(data, columns, coerce_float, dtype)\u001b[0m\n\u001b[1;32m    637\u001b[0m         \u001b[0mgen\u001b[0m \u001b[0;34m=\u001b[0m \u001b[0;34m(\u001b[0m\u001b[0mlist\u001b[0m\u001b[0;34m(\u001b[0m\u001b[0mx\u001b[0m\u001b[0;34m.\u001b[0m\u001b[0mkeys\u001b[0m\u001b[0;34m(\u001b[0m\u001b[0;34m)\u001b[0m\u001b[0;34m)\u001b[0m \u001b[0;32mfor\u001b[0m \u001b[0mx\u001b[0m \u001b[0;32min\u001b[0m \u001b[0mdata\u001b[0m\u001b[0;34m)\u001b[0m\u001b[0;34m\u001b[0m\u001b[0;34m\u001b[0m\u001b[0m\n\u001b[1;32m    638\u001b[0m         \u001b[0msort\u001b[0m \u001b[0;34m=\u001b[0m \u001b[0;32mnot\u001b[0m \u001b[0many\u001b[0m\u001b[0;34m(\u001b[0m\u001b[0misinstance\u001b[0m\u001b[0;34m(\u001b[0m\u001b[0md\u001b[0m\u001b[0;34m,\u001b[0m \u001b[0mdict\u001b[0m\u001b[0;34m)\u001b[0m \u001b[0;32mfor\u001b[0m \u001b[0md\u001b[0m \u001b[0;32min\u001b[0m \u001b[0mdata\u001b[0m\u001b[0;34m)\u001b[0m\u001b[0;34m\u001b[0m\u001b[0;34m\u001b[0m\u001b[0m\n\u001b[0;32m--> 639\u001b[0;31m         \u001b[0mcolumns\u001b[0m \u001b[0;34m=\u001b[0m \u001b[0mlib\u001b[0m\u001b[0;34m.\u001b[0m\u001b[0mfast_unique_multiple_list_gen\u001b[0m\u001b[0;34m(\u001b[0m\u001b[0mgen\u001b[0m\u001b[0;34m,\u001b[0m \u001b[0msort\u001b[0m\u001b[0;34m=\u001b[0m\u001b[0msort\u001b[0m\u001b[0;34m)\u001b[0m\u001b[0;34m\u001b[0m\u001b[0;34m\u001b[0m\u001b[0m\n\u001b[0m\u001b[1;32m    640\u001b[0m \u001b[0;34m\u001b[0m\u001b[0m\n\u001b[1;32m    641\u001b[0m     \u001b[0;31m# assure that they are of the base dict class and not of derived\u001b[0m\u001b[0;34m\u001b[0m\u001b[0;34m\u001b[0m\u001b[0;34m\u001b[0m\u001b[0m\n",
      "\u001b[0;32mpandas/_libs/lib.pyx\u001b[0m in \u001b[0;36mpandas._libs.lib.fast_unique_multiple_list_gen\u001b[0;34m()\u001b[0m\n",
      "\u001b[0;32m/opt/anaconda3/envs/TDDE16_Project/lib/python3.7/site-packages/pandas/core/internals/construction.py\u001b[0m in \u001b[0;36m<genexpr>\u001b[0;34m(.0)\u001b[0m\n\u001b[1;32m    635\u001b[0m     \"\"\"\n\u001b[1;32m    636\u001b[0m     \u001b[0;32mif\u001b[0m \u001b[0mcolumns\u001b[0m \u001b[0;32mis\u001b[0m \u001b[0;32mNone\u001b[0m\u001b[0;34m:\u001b[0m\u001b[0;34m\u001b[0m\u001b[0;34m\u001b[0m\u001b[0m\n\u001b[0;32m--> 637\u001b[0;31m         \u001b[0mgen\u001b[0m \u001b[0;34m=\u001b[0m \u001b[0;34m(\u001b[0m\u001b[0mlist\u001b[0m\u001b[0;34m(\u001b[0m\u001b[0mx\u001b[0m\u001b[0;34m.\u001b[0m\u001b[0mkeys\u001b[0m\u001b[0;34m(\u001b[0m\u001b[0;34m)\u001b[0m\u001b[0;34m)\u001b[0m \u001b[0;32mfor\u001b[0m \u001b[0mx\u001b[0m \u001b[0;32min\u001b[0m \u001b[0mdata\u001b[0m\u001b[0;34m)\u001b[0m\u001b[0;34m\u001b[0m\u001b[0;34m\u001b[0m\u001b[0m\n\u001b[0m\u001b[1;32m    638\u001b[0m         \u001b[0msort\u001b[0m \u001b[0;34m=\u001b[0m \u001b[0;32mnot\u001b[0m \u001b[0many\u001b[0m\u001b[0;34m(\u001b[0m\u001b[0misinstance\u001b[0m\u001b[0;34m(\u001b[0m\u001b[0md\u001b[0m\u001b[0;34m,\u001b[0m \u001b[0mdict\u001b[0m\u001b[0;34m)\u001b[0m \u001b[0;32mfor\u001b[0m \u001b[0md\u001b[0m \u001b[0;32min\u001b[0m \u001b[0mdata\u001b[0m\u001b[0;34m)\u001b[0m\u001b[0;34m\u001b[0m\u001b[0;34m\u001b[0m\u001b[0m\n\u001b[1;32m    639\u001b[0m         \u001b[0mcolumns\u001b[0m \u001b[0;34m=\u001b[0m \u001b[0mlib\u001b[0m\u001b[0;34m.\u001b[0m\u001b[0mfast_unique_multiple_list_gen\u001b[0m\u001b[0;34m(\u001b[0m\u001b[0mgen\u001b[0m\u001b[0;34m,\u001b[0m \u001b[0msort\u001b[0m\u001b[0;34m=\u001b[0m\u001b[0msort\u001b[0m\u001b[0;34m)\u001b[0m\u001b[0;34m\u001b[0m\u001b[0;34m\u001b[0m\u001b[0m\n",
      "\u001b[0;31mKeyboardInterrupt\u001b[0m: "
     ]
    }
   ],
   "source": [
    "# Extracting appropriate data and transforming to pandas dataframe\n",
    "df = pd.DataFrame(data)\n",
    "df_extractive = df[df.density_bin == 'extractive']\n",
    "\n",
    "# Filtering on rough estimate of lenght text\n",
    "article_lengths = [len(text.split()) for text in df_extractive.text]\n",
    "_ = plt.hist(article_lengths, bins = 100, range = (0, 2000))\n",
    "length_check = [len > 250 for len in article_lengths]\n",
    "df_extractive = df_extractive[length_check]\n",
    "\n",
    "# Inspecting head of dataframe for inspection\n",
    "df_extractive.head()"
   ]
  },
  {
   "cell_type": "code",
   "execution_count": 16,
   "metadata": {},
   "outputs": [
    {
     "name": "stdout",
     "output_type": "stream",
     "text": [
      "Full dataset:  995041 \n",
      "Extractive dataset:  257586 \n",
      "Percentage:  0.26\n"
     ]
    }
   ],
   "source": [
    "# Printing the length of the dataset, before and after thinning\n",
    "print(\"Full dataset: \", len(df), \"\\nExtractive dataset: \",len(df_extractive), \"\\nPercentage: \", round(len(df_extractive)/len(df), 2))"
   ]
  },
  {
   "cell_type": "markdown",
   "metadata": {},
   "source": [
    "## Intermidiate Input Representation"
   ]
  },
  {
   "cell_type": "code",
   "execution_count": 15,
   "metadata": {},
   "outputs": [],
   "source": [
    "# Loading the \"en_core_web_sm\" model from the SpaCy library\n",
    "# Disabling unused features for a lighter and more efficient model\n",
    "# The model is used for text transformation in preprocessing \n",
    "nlp = sp.load(\"en_core_web_sm\", disable=[\"tagger\", \"parser\", \"ner\", \"textcat\"])"
   ]
  },
  {
   "cell_type": "markdown",
   "metadata": {},
   "source": [
    "### Sparse TF-IDF matrix representation"
   ]
  },
  {
   "cell_type": "code",
   "execution_count": 17,
   "metadata": {},
   "outputs": [],
   "source": [
    "# PREPROCESSING FUNCTION\n",
    "def preprocess(text):\n",
    "    # Cleans input text\n",
    "    text = nlp(text)\n",
    "    tokens = []\n",
    "    for token in text:\n",
    "        # Remove stopwords and numerics, append the lemma form to tokens list\n",
    "        if token.is_stop == False and token.is_alpha == True:\n",
    "            tokens.append(token.lemma_)\n",
    "    \n",
    "    # Return all lemmatized tokens in the input text\n",
    "    return tokens"
   ]
  },
  {
   "cell_type": "code",
   "execution_count": 18,
   "metadata": {},
   "outputs": [],
   "source": [
    "# TF-IDF MATRIX CREATION FUNCTION\n",
    "def create_tfidf_matrix(corpus, preprocessor = preprocess):\n",
    "    #Initializing ScikitLearn TF-IDF vectorizer and creating TF-IDF sparse matrix\n",
    "    vectorizer = TfidfVectorizer(tokenizer = preprocessor)\n",
    "    tfidf_matrix = vectorizer.fit_transform(corpus['text'])\n",
    "    \n",
    "    # Saving list of all corpus tokens\n",
    "    feature_names = vectorizer.get_feature_names()\n",
    "\n",
    "    # Inspecting dimension of sparse matrix\n",
    "    # Rows should equal no. of df_extractive data entities\n",
    "    # Number of columns equals number of unique corpus tokens\n",
    "    print(\"TF-IDF matrix dimension: \", tfidf_matrix.get_shape(), \"\\nAligning with no. df_extractive enteties? \", tfidf_matrix.get_shape()[0] == len(df_extractive))\n",
    "    \n",
    "    # Returning TF-IDF matrix\n",
    "    return tfidf_matrix, feature_names"
   ]
  },
  {
   "cell_type": "markdown",
   "metadata": {},
   "source": [
    "### Token and TF-IDF score pairing"
   ]
  },
  {
   "cell_type": "code",
   "execution_count": 19,
   "metadata": {},
   "outputs": [],
   "source": [
    "# TOKEN TFIDF PAIRING FUNCTION\n",
    "def token_tfidf_ranking(feature_names, tfidf_matrix, row_index = 0):\n",
    "    # Exctracting indices of document tokens from the TF-IDF matrix\n",
    "    token_indices = tfidf_matrix[row_index,:].nonzero()[1]\n",
    "   \n",
    "    # Extract token names and pair with corresponding TF-IDF value from the TF-IDF matrix\n",
    "    # Sort by TF-IDF score\n",
    "    token_tfidf = pd.DataFrame(np.column_stack(([feature_names[index] for index in token_indices], [tfidf_matrix[row_index, x] for x in token_indices])), columns=['token', 'tfidf_score'])\n",
    "    token_tfidf = token_tfidf.sort_values(by='tfidf_score', ascending=False)\n",
    "    \n",
    "    #token_tfidf = token_tfidf.astype({\"word\": str, \"tfidf_score\": float})\n",
    "    \n",
    "    # Return the sorted list of (token, TF-IDF value) data frame\n",
    "    return token_tfidf"
   ]
  },
  {
   "cell_type": "markdown",
   "metadata": {},
   "source": [
    "### Sentence splitting"
   ]
  },
  {
   "cell_type": "code",
   "execution_count": 20,
   "metadata": {},
   "outputs": [],
   "source": [
    "# Loading new model from SpaCy and adding sentencizer pipeline\n",
    "nlp_sentencizer = sp.load(\"en_core_web_sm\", disable=[\"tagger\", \"parser\", \"ner\", \"textcat\"])\n",
    "nlp_sentencizer.add_pipe(nlp.create_pipe('sentencizer'))"
   ]
  },
  {
   "cell_type": "code",
   "execution_count": 21,
   "metadata": {},
   "outputs": [],
   "source": [
    "# SENTENCE SPLITTING FUNCTION\n",
    "def sentence_splitting(doc):\n",
    "    doc = nlp_sentencizer(doc['text'])\n",
    "    sentences = [sent.string.strip() for sent in doc.sents]\n",
    "    \n",
    "    return sentences"
   ]
  },
  {
   "cell_type": "markdown",
   "metadata": {},
   "source": [
    "### Sentence level tokenization and scoring"
   ]
  },
  {
   "cell_type": "code",
   "execution_count": 129,
   "metadata": {},
   "outputs": [],
   "source": [
    "# SENTENCE SCORING FUNTION\n",
    "def sentence_scoring(sentences, token_tfidf_pairs):\n",
    "    sentence_scores = []\n",
    "    \n",
    "    for i, sentence in enumerate(sentences):\n",
    "        score = 0\n",
    "        sentence_length = len(sentence)\n",
    "\n",
    "        # Using preprocessing function to extract sentence tokens\n",
    "        sentence_tokens = preprocess(sentence)\n",
    "\n",
    "        # Summation of sentence tokens' TF-IDF values \n",
    "        for token in sentence_tokens:\n",
    "            token = token.lower()\n",
    "            if token in token_tfidf_pairs['token'].values:\n",
    "                score = score + float(token_tfidf_pairs.loc[token_tfidf_pairs['token'] == token]['tfidf_score'].values)\n",
    "\n",
    "        # Normalizing sentence score dependent on sentence length\n",
    "        score = score / sentence_length\n",
    "        \n",
    "        # Append to list of sentence scores\n",
    "        sentence_scores.append((i,score))\n",
    "    \n",
    "    # Save scores in pd dataframe\n",
    "    sentence_scores = pd.DataFrame(sentence_scores,columns=[\"sentence_index\", \"sentence_score\"]).sort_values(by='sentence_score', ascending=False)\n",
    "    \n",
    "    # Return final sentence scores\n",
    "    return sentence_scores "
   ]
  },
  {
   "cell_type": "markdown",
   "metadata": {},
   "source": [
    "### Sentence Extraction"
   ]
  },
  {
   "cell_type": "code",
   "execution_count": 23,
   "metadata": {},
   "outputs": [],
   "source": [
    "# SENTENCE EXTRACTION FUNCTION\n",
    "def sentence_extraction(sentences, sentence_scores, n):\n",
    "    summary = []\n",
    "    \n",
    "    # Extracting indices of the n number of top scoring sentences\n",
    "    # sort them in ascending order\n",
    "    top_sentence_indices = np.sort(sentence_scores[0:n]['sentence_index'].values)\n",
    "    \n",
    "    # Extracting the original sentences and appending to summary list\n",
    "    for index in top_sentence_indices:\n",
    "        summary.append(sentences[index])\n",
    "        \n",
    "    # Joining summary sentences\n",
    "    summary = ' '.join(summary)\n",
    "    \n",
    "    return summary"
   ]
  },
  {
   "cell_type": "markdown",
   "metadata": {},
   "source": [
    "## Score summaries with ROUGE"
   ]
  },
  {
   "cell_type": "code",
   "execution_count": 198,
   "metadata": {},
   "outputs": [],
   "source": [
    "rouge = Rouge()\n",
    "scorer = rouge_scorer.RougeScorer(['rouge1', 'rouge2', 'rougeL','rougeLsum'], use_stemmer=True)\n",
    "# ROUGE AND BLEU SCORING FUNCTION\n",
    "def rouge_blue_scoring(summary, reference):\n",
    "    rouge_score = rouge.get_scores(summary, reference)\n",
    "    rouge_score_2 = scorer.score(summary, reference)\n",
    "    return rouge_score_2, rouge_score\n",
    "    "
   ]
  },
  {
   "cell_type": "markdown",
   "metadata": {},
   "source": [
    "# Running the Experiment\n",
    "* Preprocess and Vectorize\n",
    "* Extract document's tokens and tfidf key-value pairs\n",
    "* Sentencize document and score each seperate sentence\n",
    "* Extract top *n* sentences"
   ]
  },
  {
   "cell_type": "code",
   "execution_count": 24,
   "metadata": {},
   "outputs": [
    {
     "name": "stdout",
     "output_type": "stream",
     "text": [
      "TF-IDF matrix dimension:  (257586, 483035) \n",
      "Aligning with no. df_extractive enteties?  True\n"
     ]
    }
   ],
   "source": [
    "# Intermidiate Input Representation\n",
    "corpus = df_extractive\n",
    "tfidf_matrix, feature_names = create_tfidf_matrix(corpus = corpus)"
   ]
  },
  {
   "cell_type": "code",
   "execution_count": 178,
   "metadata": {},
   "outputs": [
    {
     "data": {
      "text/html": [
       "<div>\n",
       "<style scoped>\n",
       "    .dataframe tbody tr th:only-of-type {\n",
       "        vertical-align: middle;\n",
       "    }\n",
       "\n",
       "    .dataframe tbody tr th {\n",
       "        vertical-align: top;\n",
       "    }\n",
       "\n",
       "    .dataframe thead th {\n",
       "        text-align: right;\n",
       "    }\n",
       "</style>\n",
       "<table border=\"1\" class=\"dataframe\">\n",
       "  <thead>\n",
       "    <tr style=\"text-align: right;\">\n",
       "      <th></th>\n",
       "      <th>url</th>\n",
       "      <th>archive</th>\n",
       "      <th>title</th>\n",
       "      <th>date</th>\n",
       "      <th>text</th>\n",
       "      <th>summary</th>\n",
       "      <th>compression</th>\n",
       "      <th>coverage</th>\n",
       "      <th>density</th>\n",
       "      <th>compression_bin</th>\n",
       "      <th>coverage_bin</th>\n",
       "      <th>density_bin</th>\n",
       "    </tr>\n",
       "  </thead>\n",
       "  <tbody>\n",
       "    <tr>\n",
       "      <th>2</th>\n",
       "      <td>http://www.nytimes.com/2006/04/23/business/you...</td>\n",
       "      <td>http://web.archive.org/web/20060909062911id_/h...</td>\n",
       "      <td>Investors vs. Pfizer: Guess Who Has the Guns?</td>\n",
       "      <td>20060909062911</td>\n",
       "      <td>IF outsized executive pay has indeed become a ...</td>\n",
       "      <td>The battle between Pfizer Inc.'s investors and...</td>\n",
       "      <td>33.880000</td>\n",
       "      <td>1.000000</td>\n",
       "      <td>11.720000</td>\n",
       "      <td>medium</td>\n",
       "      <td>high</td>\n",
       "      <td>extractive</td>\n",
       "    </tr>\n",
       "    <tr>\n",
       "      <th>3</th>\n",
       "      <td>http://www.nydailynews.com/archives/gossip/199...</td>\n",
       "      <td>http://web.archive.org/web/20080313232743id_/h...</td>\n",
       "      <td>REX FLEXED PECS FOR SKIN PICS</td>\n",
       "      <td>20080313232743</td>\n",
       "      <td>BY A.J. BENZA &amp; MICHAEL LEWITTES\\n\\nIf Simon R...</td>\n",
       "      <td>If Simon Rex looks a little familiar, it may n...</td>\n",
       "      <td>11.894118</td>\n",
       "      <td>0.988235</td>\n",
       "      <td>38.988235</td>\n",
       "      <td>low</td>\n",
       "      <td>high</td>\n",
       "      <td>extractive</td>\n",
       "    </tr>\n",
       "    <tr>\n",
       "      <th>4</th>\n",
       "      <td>http://www.nydailynews.com/archives/entertainm...</td>\n",
       "      <td>http://web.archive.org/web/20080314003027id_/h...</td>\n",
       "      <td>POPEYE-WORTHY PIE. PHYLLO DOUGH WRAPS SPINACH ...</td>\n",
       "      <td>20080314003027</td>\n",
       "      <td>Spinach has terrorized generations of veggie-p...</td>\n",
       "      <td>POPEYE-WORTHY PIE. PHYLLO DOUGH WRAPS SPINACH ...</td>\n",
       "      <td>3.932584</td>\n",
       "      <td>0.921348</td>\n",
       "      <td>36.629213</td>\n",
       "      <td>low</td>\n",
       "      <td>medium</td>\n",
       "      <td>extractive</td>\n",
       "    </tr>\n",
       "    <tr>\n",
       "      <th>5</th>\n",
       "      <td>http://www.nydailynews.com/archives/news/2001/...</td>\n",
       "      <td>http://web.archive.org/web/20080520122148id_/h...</td>\n",
       "      <td>JOY FOR ADDICTS ON MEND AS CHILDREN ARE RETURNED</td>\n",
       "      <td>20080520122148</td>\n",
       "      <td>All day, every day, Cheryl Bernstein thanks he...</td>\n",
       "      <td>All day, every day, Cheryl Bernstein thanks he...</td>\n",
       "      <td>4.597561</td>\n",
       "      <td>0.987805</td>\n",
       "      <td>23.475610</td>\n",
       "      <td>low</td>\n",
       "      <td>high</td>\n",
       "      <td>extractive</td>\n",
       "    </tr>\n",
       "    <tr>\n",
       "      <th>6</th>\n",
       "      <td>http://www.nydailynews.com/archives/news/2001/...</td>\n",
       "      <td>http://web.archive.org/web/20080711053245id_/h...</td>\n",
       "      <td>QUICK WORK BY THE COPS NYPD response time plunges</td>\n",
       "      <td>20080711053245</td>\n",
       "      <td>With Police Commissioner Bernard Kerik crackin...</td>\n",
       "      <td>By JOHN MARZULLI DAILY NEWS POLICE BUREAU CHIE...</td>\n",
       "      <td>20.085366</td>\n",
       "      <td>0.939024</td>\n",
       "      <td>16.890244</td>\n",
       "      <td>medium</td>\n",
       "      <td>medium</td>\n",
       "      <td>extractive</td>\n",
       "    </tr>\n",
       "  </tbody>\n",
       "</table>\n",
       "</div>"
      ],
      "text/plain": [
       "                                                 url  \\\n",
       "2  http://www.nytimes.com/2006/04/23/business/you...   \n",
       "3  http://www.nydailynews.com/archives/gossip/199...   \n",
       "4  http://www.nydailynews.com/archives/entertainm...   \n",
       "5  http://www.nydailynews.com/archives/news/2001/...   \n",
       "6  http://www.nydailynews.com/archives/news/2001/...   \n",
       "\n",
       "                                             archive  \\\n",
       "2  http://web.archive.org/web/20060909062911id_/h...   \n",
       "3  http://web.archive.org/web/20080313232743id_/h...   \n",
       "4  http://web.archive.org/web/20080314003027id_/h...   \n",
       "5  http://web.archive.org/web/20080520122148id_/h...   \n",
       "6  http://web.archive.org/web/20080711053245id_/h...   \n",
       "\n",
       "                                               title            date  \\\n",
       "2      Investors vs. Pfizer: Guess Who Has the Guns?  20060909062911   \n",
       "3                      REX FLEXED PECS FOR SKIN PICS  20080313232743   \n",
       "4  POPEYE-WORTHY PIE. PHYLLO DOUGH WRAPS SPINACH ...  20080314003027   \n",
       "5   JOY FOR ADDICTS ON MEND AS CHILDREN ARE RETURNED  20080520122148   \n",
       "6  QUICK WORK BY THE COPS NYPD response time plunges  20080711053245   \n",
       "\n",
       "                                                text  \\\n",
       "2  IF outsized executive pay has indeed become a ...   \n",
       "3  BY A.J. BENZA & MICHAEL LEWITTES\\n\\nIf Simon R...   \n",
       "4  Spinach has terrorized generations of veggie-p...   \n",
       "5  All day, every day, Cheryl Bernstein thanks he...   \n",
       "6  With Police Commissioner Bernard Kerik crackin...   \n",
       "\n",
       "                                             summary  compression  coverage  \\\n",
       "2  The battle between Pfizer Inc.'s investors and...    33.880000  1.000000   \n",
       "3  If Simon Rex looks a little familiar, it may n...    11.894118  0.988235   \n",
       "4  POPEYE-WORTHY PIE. PHYLLO DOUGH WRAPS SPINACH ...     3.932584  0.921348   \n",
       "5  All day, every day, Cheryl Bernstein thanks he...     4.597561  0.987805   \n",
       "6  By JOHN MARZULLI DAILY NEWS POLICE BUREAU CHIE...    20.085366  0.939024   \n",
       "\n",
       "     density compression_bin coverage_bin density_bin  \n",
       "2  11.720000          medium         high  extractive  \n",
       "3  38.988235             low         high  extractive  \n",
       "4  36.629213             low       medium  extractive  \n",
       "5  23.475610             low         high  extractive  \n",
       "6  16.890244          medium       medium  extractive  "
      ]
     },
     "execution_count": 178,
     "metadata": {},
     "output_type": "execute_result"
    }
   ],
   "source": [
    "test_docs = corpus[0:10]\n",
    "test_docs.head()"
   ]
  },
  {
   "cell_type": "code",
   "execution_count": 201,
   "metadata": {},
   "outputs": [],
   "source": [
    "# Sentence Scoring and Sentence Extraction\n",
    "summaries = []\n",
    "rouge_scores1 = pd.DataFrame(columns = ['r1-p', 'r1-r', 'r1-f', 'r2-p', 'r2-r', 'r2-f', 'rl-p', 'rl-r', 'rl-f'])\n",
    "rouge_scores2 = pd.DataFrame(columns = ['r1-p', 'r1-r', 'r1-f', 'r2-p', 'r2-r', 'r2-f', 'rl-p', 'rl-r', 'rl-f'])\n",
    "\n",
    "for index, doc in test_docs.iterrows():\n",
    "    token_tfidf_pairs = token_tfidf_ranking(feature_names, tfidf_matrix, index - 2)\n",
    "    sentences = sentence_splitting(doc)\n",
    "    sentence_scores = sentence_scoring(sentences, token_tfidf_pairs)\n",
    "    summary = sentence_extraction(sentences, sentence_scores, 3)\n",
    "    summaries.append(summary)\n",
    "    rouge_score2, rouge_score = rouge_blue_scoring(summary, doc.summary)\n",
    "    rouge_scores1.loc[len(rouge_scores1)] = list(rouge_score[0]['rouge-1'].values()) + list(rouge_score[0]['rouge-2'].values()) + list(rouge_score[0]['rouge-1'].values())\n",
    "    rouge_scores2.loc[len(rouge_scores2)] = list(rouge_score2['rouge1'][0:3]) + list(rouge_score2['rouge2'][0:3]) + list(rouge_score2['rougeL'][0:3])\n",
    "    \n",
    "    "
   ]
  },
  {
   "cell_type": "code",
   "execution_count": null,
   "metadata": {},
   "outputs": [],
   "source": []
  }
 ],
 "metadata": {
  "kernelspec": {
   "display_name": "Python 3",
   "language": "python",
   "name": "python3"
  },
  "language_info": {
   "codemirror_mode": {
    "name": "ipython",
    "version": 3
   },
   "file_extension": ".py",
   "mimetype": "text/x-python",
   "name": "python",
   "nbconvert_exporter": "python",
   "pygments_lexer": "ipython3",
   "version": "3.7.9"
  }
 },
 "nbformat": 4,
 "nbformat_minor": 4
}
