{
 "cells": [
  {
   "cell_type": "markdown",
   "metadata": {},
   "source": [
    "## Importing packages"
   ]
  },
  {
   "cell_type": "markdown",
   "metadata": {},
   "source": [
    "Importing all needed packages for the full notebook. Only needs to be ran once. "
   ]
  },
  {
   "cell_type": "code",
   "execution_count": 101,
   "metadata": {},
   "outputs": [],
   "source": [
    "import gzip as gz\n",
    "import json\n",
    "import pandas as pd\n",
    "import spacy as sp\n",
    "import numpy as np\n",
    "from gensim.models import Word2Vec\n",
    "from sklearn.cluster import KMeans\n",
    "from sklearn.decomposition import PCA\n",
    "import matplotlib.pyplot as plt\n"
   ]
  },
  {
   "cell_type": "markdown",
   "metadata": {},
   "source": [
    "## Importing data"
   ]
  },
  {
   "cell_type": "code",
   "execution_count": 4,
   "metadata": {},
   "outputs": [],
   "source": [
    "# Setting local file path\n",
    "path = \"release/train.jsonl.gz\"\n",
    "\n",
    "# Creating list entity to hold full set of loaded data\n",
    "data = []\n",
    "\n",
    "# Using gz to set path to zip file and iteritavly load each json line\n",
    "with gz.open(path) as f:\n",
    "    for ln in f:\n",
    "        obj = json.loads(ln)\n",
    "        data.append(obj)"
   ]
  },
  {
   "cell_type": "code",
   "execution_count": 5,
   "metadata": {},
   "outputs": [],
   "source": [
    "# Extracting appropriate data and transforming to pandas dataframe\n",
    "df = pd.DataFrame(data[0:100000])\n",
    "df_extractive = df[df.density_bin == 'extractive']"
   ]
  },
  {
   "cell_type": "markdown",
   "metadata": {},
   "source": [
    "### Sentence splitting and tokenization"
   ]
  },
  {
   "cell_type": "code",
   "execution_count": 6,
   "metadata": {},
   "outputs": [],
   "source": [
    "nlp = sp.load(\"en_core_web_sm\", disable=[\"tagger\", \"parser\", \"ner\", \"textcat\"])\n",
    "nlp.add_pipe(nlp.create_pipe('sentencizer'))"
   ]
  },
  {
   "cell_type": "code",
   "execution_count": 50,
   "metadata": {},
   "outputs": [],
   "source": [
    "# SENTENCE SPLITTING FUNCTION\n",
    "def sentence_splitting(doc):\n",
    "    doc = nlp(doc['text'])\n",
    "    sentences = [sent.string.strip() for sent in doc.sents]\n",
    "    \n",
    "    tokenized_sentences = []\n",
    "    all_tokens = []\n",
    "    for sentence in doc.sents:\n",
    "        tokens = []\n",
    "        for token in sentence:\n",
    "            if token.is_stop == False and token.is_alpha == True:\n",
    "                t = token.lemma_.lower()\n",
    "                tokens.append(t)\n",
    "                all_tokens.append(t)\n",
    "        tokenized_sentences.append(tokens)  \n",
    "    \n",
    "    \n",
    "    return sentences, tokenized_sentences, all_tokens"
   ]
  },
  {
   "cell_type": "code",
   "execution_count": 51,
   "metadata": {},
   "outputs": [],
   "source": [
    "sentences, tokenized_sentences, all_tokens = sentence_splitting(df_extractive.iloc[0])"
   ]
  },
  {
   "cell_type": "markdown",
   "metadata": {},
   "source": [
    "## Sentence vector representation"
   ]
  },
  {
   "cell_type": "code",
   "execution_count": 55,
   "metadata": {},
   "outputs": [],
   "source": [
    "model = Word2Vec(tokenized_sentences, min_count=1,size= 300)"
   ]
  },
  {
   "cell_type": "code",
   "execution_count": 85,
   "metadata": {},
   "outputs": [],
   "source": [
    "sentence_vectors = []\n",
    "for sentence in tokenized_sentences:\n",
    "    vec = np.zeros(300)\n",
    "    for token in sentence:\n",
    "        vec = vec + model.wv[token]\n",
    "    vec = vec/len(vec)\n",
    "    sentence_vectors.append(vec)"
   ]
  },
  {
   "cell_type": "markdown",
   "metadata": {},
   "source": [
    "## Sentence clustering with Kmeans"
   ]
  },
  {
   "cell_type": "code",
   "execution_count": 87,
   "metadata": {},
   "outputs": [],
   "source": [
    "k = 3\n",
    "kmeans = KMeans(k, init = 'k-means++', random_state = 42)\n",
    "kmeans_pred = kmeans.fit_predict(sentence_vectors)"
   ]
  },
  {
   "cell_type": "code",
   "execution_count": 91,
   "metadata": {},
   "outputs": [],
   "source": [
    "sklearn_pca = PCA(n_components = 2)\n",
    "Y_sklearn = sklearn_pca.fit_transform(sentence_vectors)"
   ]
  },
  {
   "cell_type": "code",
   "execution_count": 110,
   "metadata": {},
   "outputs": [
    {
     "data": {
      "text/plain": [
       "(array([[ 3.24481768e-05, -1.30557447e-05, -1.71269646e-05,\n",
       "          3.06366146e-05,  1.00310604e-04, -3.60719937e-05,\n",
       "          2.04512159e-05, -9.46763329e-06, -4.55013112e-05,\n",
       "         -3.39193797e-05, -3.60554370e-05, -9.62565581e-06,\n",
       "         -5.69423913e-05, -1.78733780e-05, -6.73275026e-05,\n",
       "         -1.19859098e-05, -6.14429772e-05, -4.79339556e-05,\n",
       "          2.71659559e-05,  7.63209008e-06, -4.24309569e-06,\n",
       "          4.81253839e-05,  5.16895534e-06,  1.07134044e-05,\n",
       "         -2.48470912e-05, -5.54324607e-05, -4.33249894e-06,\n",
       "         -2.68569712e-05, -1.36004691e-05,  4.90802874e-07,\n",
       "         -1.51935165e-04, -3.77466711e-06],\n",
       "        [-4.55505590e-06, -1.95631890e-05, -2.74449107e-05,\n",
       "          3.39639730e-05,  4.81683801e-05,  1.56436453e-04,\n",
       "          2.31026889e-05,  5.99330558e-05,  1.21427253e-05,\n",
       "         -1.69677323e-05,  6.22282902e-06, -7.84119503e-06,\n",
       "         -2.06002433e-05, -1.70575011e-05,  3.26547523e-06,\n",
       "          7.28854987e-05,  8.84816816e-05, -7.08960531e-05,\n",
       "          8.38602298e-06,  1.02457837e-05,  3.91189961e-05,\n",
       "          1.48017639e-04,  2.02524218e-04, -8.14014568e-05,\n",
       "         -4.38712017e-05, -7.93324346e-05, -5.47676300e-06,\n",
       "         -2.53381648e-05, -5.19601384e-06,  4.57848272e-05,\n",
       "         -2.64588328e-05, -4.04700498e-05]]),\n",
       " array([[ 3.24481768e-05, -1.30557447e-05],\n",
       "        [-1.71269646e-05,  3.06366146e-05],\n",
       "        [ 1.00310604e-04, -3.60719937e-05],\n",
       "        [ 2.04512159e-05, -9.46763329e-06],\n",
       "        [-4.55013112e-05, -3.39193797e-05],\n",
       "        [-3.60554370e-05, -9.62565581e-06],\n",
       "        [-5.69423913e-05, -1.78733780e-05],\n",
       "        [-6.73275026e-05, -1.19859098e-05],\n",
       "        [-6.14429772e-05, -4.79339556e-05],\n",
       "        [ 2.71659559e-05,  7.63209008e-06],\n",
       "        [-4.24309569e-06,  4.81253839e-05],\n",
       "        [ 5.16895534e-06,  1.07134044e-05],\n",
       "        [-2.48470912e-05, -5.54324607e-05],\n",
       "        [-4.33249894e-06, -2.68569712e-05],\n",
       "        [-1.36004691e-05,  4.90802874e-07],\n",
       "        [-1.51935165e-04, -3.77466711e-06],\n",
       "        [-4.55505590e-06, -1.95631890e-05],\n",
       "        [-2.74449107e-05,  3.39639730e-05],\n",
       "        [ 4.81683801e-05,  1.56436453e-04],\n",
       "        [ 2.31026889e-05,  5.99330558e-05],\n",
       "        [ 1.21427253e-05, -1.69677323e-05],\n",
       "        [ 6.22282902e-06, -7.84119503e-06],\n",
       "        [-2.06002433e-05, -1.70575011e-05],\n",
       "        [ 3.26547523e-06,  7.28854987e-05],\n",
       "        [ 8.84816816e-05, -7.08960531e-05],\n",
       "        [ 8.38602298e-06,  1.02457837e-05],\n",
       "        [ 3.91189961e-05,  1.48017639e-04],\n",
       "        [ 2.02524218e-04, -8.14014568e-05],\n",
       "        [-4.38712017e-05, -7.93324346e-05],\n",
       "        [-5.47676300e-06, -2.53381648e-05],\n",
       "        [-5.19601384e-06,  4.57848272e-05],\n",
       "        [-2.64588328e-05, -4.04700498e-05]]))"
      ]
     },
     "execution_count": 110,
     "metadata": {},
     "output_type": "execute_result"
    }
   ],
   "source": [
    "np.reshape(Y_sklearn, (2,32)), Y_sklearn"
   ]
  },
  {
   "cell_type": "code",
   "execution_count": 105,
   "metadata": {},
   "outputs": [
    {
     "data": {
      "text/plain": [
       "<matplotlib.collections.PathCollection at 0x153d67df448>"
      ]
     },
     "execution_count": 105,
     "metadata": {},
     "output_type": "execute_result"
    },
    {
     "data": {
      "image/png": "[encoded data removed]",
      "text/plain": [
       "<Figure size 432x288 with 1 Axes>"
      ]
     },
     "metadata": {
      "needs_background": "light"
     },
     "output_type": "display_data"
    }
   ],
   "source": [
    "plt.scatter(Y_sklearn[0],Y_sklearn[1])"
   ]
  },
  {
   "cell_type": "code",
   "execution_count": null,
   "metadata": {},
   "outputs": [],
   "source": []
  }
 ],
 "metadata": {
  "kernelspec": {
   "display_name": "Python 3",
   "language": "python",
   "name": "python3"
  },
  "language_info": {
   "codemirror_mode": {
    "name": "ipython",
    "version": 3
   },
   "file_extension": ".py",
   "mimetype": "text/x-python",
   "name": "python",
   "nbconvert_exporter": "python",
   "pygments_lexer": "ipython3",
   "version": "3.7.9"
  }
 },
 "nbformat": 4,
 "nbformat_minor": 4
}
